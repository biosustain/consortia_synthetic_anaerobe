{
 "cells": [
  {
   "cell_type": "markdown",
   "metadata": {},
   "source": [
    "#  Imports and setup"
   ]
  },
  {
   "cell_type": "code",
   "execution_count": 1,
   "metadata": {},
   "outputs": [],
   "source": [
    "import escher  # flux maps with escher do not export well to html or pdf\n",
    "import warnings\n",
    "import pandas as pd\n",
    "import numpy as np\n",
    "import seaborn as sns\n",
    "import matplotlib.pyplot as plt\n",
    "\n",
    "from cameo import load_model\n",
    "from cameo.flux_analysis.simulation import pfba\n",
    "from cobra.manipulation.delete import find_gene_knockout_reactions\n",
    "from cobra.io import save_json_model\n",
    "from cobra.core import Metabolite, Reaction\n",
    "from cobra.exceptions import Infeasible\n"
   ]
  },
  {
   "cell_type": "markdown",
   "metadata": {},
   "source": [
    "Load model"
   ]
  },
  {
   "cell_type": "code",
   "execution_count": 2,
   "metadata": {},
   "outputs": [],
   "source": [
    "# It appears the the iJO1366 model originally used for this work has been updated to\n",
    "# improve formatting and compatibility. Loading the old model format can be problematic,\n",
    "# so here the new one is used. Reaction names might not match perfectly with maps since\n",
    "# they were made for the original model.\n",
    "iJO = load_model(\"iJO1366.json\", sanitize=True)\n",
    "iJO.solver = \"glpk\"\n",
    "model = iJO.copy()\n"
   ]
  },
  {
   "cell_type": "markdown",
   "metadata": {},
   "source": [
    "Tryptophanase is considered irreversible under physiological conditions"
   ]
  },
  {
   "cell_type": "code",
   "execution_count": 3,
   "metadata": {},
   "outputs": [],
   "source": [
    "model.reactions.TRPAS2.lower_bound = 0\n"
   ]
  },
  {
   "attachments": {},
   "cell_type": "markdown",
   "metadata": {},
   "source": [
    "Check pfba solution fluxes on WT"
   ]
  },
  {
   "cell_type": "code",
   "execution_count": 4,
   "metadata": {},
   "outputs": [
    {
     "data": {
      "application/vnd.jupyter.widget-view+json": {
       "model_id": "a74cd811a9cb41f7bd44eb1a6483479b",
       "version_major": 2,
       "version_minor": 0
      },
      "text/plain": [
       "Builder(reaction_data={'EX_cm_e': 0.0, 'EX_cmp_e': 0.0, 'EX_co2_e': 19.68710310273891, 'EX_cobalt2_e': -2.4552…"
      ]
     },
     "metadata": {},
     "output_type": "display_data"
    }
   ],
   "source": [
    "pmap = escher.Builder(\n",
    "    model=model,\n",
    "    map_json=\"acetate_coupling_escherMap.json\",\n",
    "    reaction_data=pfba(model).fluxes,\n",
    "    # use_3d_transformation=True,\n",
    "    reaction_styles=[\"color\", \"size\", \"text\", \"abs\"],\n",
    "    reaction_scale=[\n",
    "        {\"type\": \"min\", \"color\": \"#c8c8c8\", \"size\": 12},\n",
    "        {\"type\": \"mean\", \"color\": \"#9696ff\", \"size\": 20},\n",
    "        {\"type\": \"max\", \"color\": \"#ff0000\", \"size\": 25},\n",
    "    ],\n",
    ")\n",
    "pmap\n"
   ]
  },
  {
   "attachments": {},
   "cell_type": "markdown",
   "metadata": {},
   "source": [
    "# Acetate auxotrophy for consortia paper"
   ]
  },
  {
   "cell_type": "markdown",
   "metadata": {},
   "source": [
    "## Deletions and insertions:"
   ]
  },
  {
   "cell_type": "markdown",
   "metadata": {},
   "source": [
    "### Implement literature based deletions"
   ]
  },
  {
   "attachments": {},
   "cell_type": "markdown",
   "metadata": {},
   "source": [
    "Project deletions to the model as noted on the manuscript for acetate auxotrophy:\n",
    "\n",
    "* aceEF > PDH\n",
    "* focA > FORt2pp\n",
    "* pflB > PFL\n",
    "* poxB > POX"
   ]
  },
  {
   "cell_type": "code",
   "execution_count": 5,
   "metadata": {},
   "outputs": [],
   "source": [
    "for rxn in [\n",
    "    \"PDH\",\n",
    "    \"FORt2pp\",\n",
    "    \"PFL\",\n",
    "    \"POX\",\n",
    "]:\n",
    "    model.reactions.get_by_id(rxn).knock_out()\n"
   ]
  },
  {
   "attachments": {},
   "cell_type": "markdown",
   "metadata": {},
   "source": [
    "Check if the strain grows without acetate"
   ]
  },
  {
   "cell_type": "code",
   "execution_count": 6,
   "metadata": {},
   "outputs": [
    {
     "name": "stdout",
     "output_type": "stream",
     "text": [
      "Growth rate: 0.95\n"
     ]
    },
    {
     "data": {
      "application/vnd.jupyter.widget-view+json": {
       "model_id": "e953bc9300474558a50d0c01cc91fea1",
       "version_major": 2,
       "version_minor": 0
      },
      "text/plain": [
       "Builder(reaction_data={'EX_cm_e': 0.0, 'EX_cmp_e': 0.0, 'EX_co2_e': 21.131228844027483, 'EX_cobalt2_e': -2.367…"
      ]
     },
     "metadata": {},
     "output_type": "display_data"
    }
   ],
   "source": [
    "print(\"Growth rate:\", round(model.optimize().objective_value, 2))\n",
    "\n",
    "pmap = escher.Builder(\n",
    "    model=model,\n",
    "    map_json=\"acetate_coupling_escherMap.json\",\n",
    "    reaction_data=pfba(model).fluxes,\n",
    "    # use_3d_transformation=True,\n",
    "    reaction_styles=[\"color\", \"size\", \"text\", \"abs\"],\n",
    "    reaction_scale=[\n",
    "        {\"type\": \"min\", \"color\": \"#c8c8c8\", \"size\": 12},\n",
    "        {\"type\": \"mean\", \"color\": \"#9696ff\", \"size\": 20},\n",
    "        {\"type\": \"max\", \"color\": \"#ff0000\", \"size\": 25},\n",
    "    ],\n",
    ")\n",
    "pmap\n"
   ]
  },
  {
   "cell_type": "markdown",
   "metadata": {},
   "source": [
    "Seems perfectly fine on simulation, but the the route to getting acetate is clearly different based on pFBA solution. In this case, acetate is sourced from PPP.\n",
    "\n",
    "Following genes were selected to remove potential escapes in PFL, take out putative pyruvate oxidoreductase and eliminate a route to channel PPP carbon to acetyl-coa."
   ]
  },
  {
   "cell_type": "code",
   "execution_count": 7,
   "metadata": {},
   "outputs": [],
   "source": [
    "rxnList = find_gene_knockout_reactions(\n",
    "    model,\n",
    "    [\n",
    "        model.genes.b3114,  # tdcE\n",
    "        model.genes.b3951,  # pflD\n",
    "        model.genes.b3952,  # pflC\n",
    "        model.genes.b1378,  # pfo / previously ybdK\n",
    "        model.genes.b4381,  # deoC\n",
    "    ],\n",
    ")\n",
    "for rxn in rxnList:\n",
    "    rxn.upper_bound = 0.0\n",
    "    rxn.lower_bound = 0.0\n"
   ]
  },
  {
   "attachments": {},
   "cell_type": "markdown",
   "metadata": {},
   "source": [
    "Check if the strain grows without acetate"
   ]
  },
  {
   "cell_type": "code",
   "execution_count": 8,
   "metadata": {},
   "outputs": [
    {
     "name": "stdout",
     "output_type": "stream",
     "text": [
      "Growth rate: 0.9\n"
     ]
    },
    {
     "data": {
      "application/vnd.jupyter.widget-view+json": {
       "model_id": "32039d9c1d1841619402b21f47b268db",
       "version_major": 2,
       "version_minor": 0
      },
      "text/plain": [
       "Builder(reaction_data={'EX_cm_e': 0.0, 'EX_cmp_e': 0.0, 'EX_co2_e': 23.243431839008128, 'EX_cobalt2_e': -2.238…"
      ]
     },
     "metadata": {},
     "output_type": "display_data"
    }
   ],
   "source": [
    "print(\"Growth rate:\", round(model.optimize().objective_value, 2))\n",
    "\n",
    "pmap = escher.Builder(\n",
    "    model=model,\n",
    "    map_json=\"acetate_coupling_escherMap.json\",\n",
    "    reaction_data=pfba(model).fluxes,\n",
    "    # use_3d_transformation=True,\n",
    "    reaction_styles=[\"color\", \"size\", \"text\", \"abs\"],\n",
    "    reaction_scale=[\n",
    "        {\"type\": \"min\", \"color\": \"#c8c8c8\", \"size\": 12},\n",
    "        {\"type\": \"mean\", \"color\": \"#9696ff\", \"size\": 20},\n",
    "        {\"type\": \"max\", \"color\": \"#ff0000\", \"size\": 25},\n",
    "    ],\n",
    ")\n",
    "pmap\n"
   ]
  },
  {
   "cell_type": "markdown",
   "metadata": {},
   "source": [
    "Deletions generate an impact on growth rate of the mutant but doesn't eliminate it.\n",
    " \n",
    "2 mechanisms, either related to serine or threonine can be used to generate acetate/acetyl-CoA."
   ]
  },
  {
   "cell_type": "markdown",
   "metadata": {},
   "source": [
    "Take out threonine route with 2 reaction deletions"
   ]
  },
  {
   "cell_type": "code",
   "execution_count": 9,
   "metadata": {},
   "outputs": [],
   "source": [
    "rxnList = [\"THRD\", \"THRA\"]\n",
    "for rxn in rxnList:\n",
    "    model.reactions.get_by_id(rxn).knock_out()\n"
   ]
  },
  {
   "cell_type": "code",
   "execution_count": 10,
   "metadata": {},
   "outputs": [
    {
     "name": "stdout",
     "output_type": "stream",
     "text": [
      "Growth rate: 0.85\n"
     ]
    },
    {
     "data": {
      "application/vnd.jupyter.widget-view+json": {
       "model_id": "9a4dee5e9993435ea02a7f88c2930ae2",
       "version_major": 2,
       "version_minor": 0
      },
      "text/plain": [
       "Builder(reaction_data={'EX_cm_e': 0.0, 'EX_cmp_e': 0.0, 'EX_co2_e': 25.17425507493298, 'EX_cobalt2_e': -2.1210…"
      ]
     },
     "metadata": {},
     "output_type": "display_data"
    }
   ],
   "source": [
    "print(\"Growth rate:\", round(model.optimize().objective_value, 2))\n",
    "\n",
    "pmap = escher.Builder(\n",
    "    model=model,\n",
    "    map_json=\"acetate_coupling_escherMap.json\",\n",
    "    reaction_data=pfba(model).fluxes,\n",
    "    # use_3d_transformation=True,\n",
    "    reaction_styles=[\"color\", \"size\", \"text\", \"abs\"],\n",
    "    reaction_scale=[\n",
    "        {\"type\": \"min\", \"color\": \"#c8c8c8\", \"size\": 12},\n",
    "        {\"type\": \"mean\", \"color\": \"#9696ff\", \"size\": 20},\n",
    "        {\"type\": \"max\", \"color\": \"#ff0000\", \"size\": 25},\n",
    "    ],\n",
    ")\n",
    "pmap\n"
   ]
  },
  {
   "cell_type": "markdown",
   "metadata": {},
   "source": [
    "Take out serine route with 1 reaction deletion"
   ]
  },
  {
   "cell_type": "code",
   "execution_count": 11,
   "metadata": {},
   "outputs": [],
   "source": [
    "model.reactions.ETHAAL.knock_out()\n"
   ]
  },
  {
   "cell_type": "code",
   "execution_count": 12,
   "metadata": {},
   "outputs": [
    {
     "name": "stdout",
     "output_type": "stream",
     "text": [
      "Growth rate: 0.0\n"
     ]
    },
    {
     "data": {
      "application/vnd.jupyter.widget-view+json": {
       "model_id": "0d6e27cc4b6e4db6bd44bac68190d616",
       "version_major": 2,
       "version_minor": 0
      },
      "text/plain": [
       "Builder(reaction_data={'EX_cm_e': 0.0, 'EX_cmp_e': 0.0, 'EX_co2_e': 0.7411764705882343, 'EX_cobalt2_e': 0.0, '…"
      ]
     },
     "metadata": {},
     "output_type": "display_data"
    }
   ],
   "source": [
    "print(\"Growth rate:\", round(model.optimize().objective_value, 2))\n",
    "\n",
    "pmap = escher.Builder(\n",
    "    model=model,\n",
    "    map_json=\"acetate_coupling_escherMap.json\",\n",
    "    reaction_data=pfba(model).fluxes,\n",
    "    # use_3d_transformation=True,\n",
    "    reaction_styles=[\"color\", \"size\", \"text\", \"abs\"],\n",
    "    reaction_scale=[\n",
    "        {\"type\": \"min\", \"color\": \"#c8c8c8\", \"size\": 12},\n",
    "        {\"type\": \"mean\", \"color\": \"#9696ff\", \"size\": 20},\n",
    "        {\"type\": \"max\", \"color\": \"#ff0000\", \"size\": 25},\n",
    "    ],\n",
    ")\n",
    "pmap\n"
   ]
  },
  {
   "attachments": {},
   "cell_type": "markdown",
   "metadata": {},
   "source": [
    "At this point, model can not generate biomass anymore.\n",
    "\n",
    "The last two were considered to be unlikely routes and not selected for deletion."
   ]
  },
  {
   "cell_type": "markdown",
   "metadata": {},
   "source": [
    "Confirm rescue with acetate."
   ]
  },
  {
   "cell_type": "code",
   "execution_count": 13,
   "metadata": {},
   "outputs": [
    {
     "name": "stdout",
     "output_type": "stream",
     "text": [
      "Growth rate: 0.46\n"
     ]
    },
    {
     "data": {
      "application/vnd.jupyter.widget-view+json": {
       "model_id": "5fb013d4b5694ead83e97c3d70c456a1",
       "version_major": 2,
       "version_minor": 0
      },
      "text/plain": [
       "Builder(reaction_data={'EX_cm_e': 0.0, 'EX_cmp_e': 0.0, 'EX_co2_e': 7.597114160428192, 'EX_cobalt2_e': -1.1492…"
      ]
     },
     "metadata": {},
     "output_type": "display_data"
    }
   ],
   "source": [
    "model.reactions.EX_ac_e.bounds = (-2, 1000)\n",
    "\n",
    "print(\"Growth rate:\", round(model.optimize().objective_value, 2))\n",
    "\n",
    "pmap = escher.Builder(\n",
    "    model=model,\n",
    "    map_json=\"acetate_coupling_escherMap.json\",\n",
    "    reaction_data=pfba(model).fluxes,\n",
    "    # use_3d_transformation=True,\n",
    "    reaction_styles=[\"color\", \"size\", \"text\", \"abs\"],\n",
    "    reaction_scale=[\n",
    "        {\"type\": \"min\", \"color\": \"#c8c8c8\", \"size\": 12},\n",
    "        {\"type\": \"mean\", \"color\": \"#9696ff\", \"size\": 20},\n",
    "        {\"type\": \"max\", \"color\": \"#ff0000\", \"size\": 25},\n",
    "    ],\n",
    ")\n",
    "pmap\n"
   ]
  },
  {
   "attachments": {},
   "cell_type": "markdown",
   "metadata": {},
   "source": [
    "Adding acetate on this model enables biomass production."
   ]
  },
  {
   "attachments": {},
   "cell_type": "markdown",
   "metadata": {},
   "source": [
    "# Manipulations for xylose vs glucose catabolism"
   ]
  },
  {
   "attachments": {},
   "cell_type": "markdown",
   "metadata": {},
   "source": [
    "Project deletions to the model to shape sugar catabolism:\n",
    "\n",
    "* xylA > XYLI1, XYLI2\n",
    "* xylB > DXYLK, XYLK (with araB)\n",
    "* araA > ARAI\n",
    "* araB > XYLK (with xylB), XYLK2, RBK_L1\n",
    "* ptsG > GLCptspp"
   ]
  },
  {
   "cell_type": "code",
   "execution_count": 14,
   "metadata": {},
   "outputs": [],
   "source": [
    "for rxn in [\n",
    "    \"XYLI1\",\n",
    "    \"XYLI2\",\n",
    "    \"DXYLK\",\n",
    "    \"ARAI\",\n",
    "    \"XYLK\",\n",
    "    \"XYLK2\",\n",
    "    \"RBK_L1\",\n",
    "    \"GLCptspp\"\n",
    "]:\n",
    "    model.reactions.get_by_id(rxn).knock_out()\n"
   ]
  },
  {
   "cell_type": "code",
   "execution_count": 15,
   "metadata": {},
   "outputs": [
    {
     "name": "stdout",
     "output_type": "stream",
     "text": [
      "Growth rate: 0.04\n"
     ]
    },
    {
     "data": {
      "application/vnd.jupyter.widget-view+json": {
       "model_id": "c6aee77eab3b4c429462c1bd8435b66b",
       "version_major": 2,
       "version_minor": 0
      },
      "text/plain": [
       "Builder(reaction_data={'EX_cm_e': 0.0, 'EX_cmp_e': 0.0, 'EX_co2_e': 2.4205664480498825, 'EX_cobalt2_e': -9.619…"
      ]
     },
     "metadata": {},
     "output_type": "display_data"
    }
   ],
   "source": [
    "with model:\n",
    "    model.reactions.EX_xyl__D_e.bounds = (-10, 1000)\n",
    "    model.reactions.EX_glc__D_e.bounds = (0, 1000)\n",
    "    model.reactions.EX_ac_e.bounds = (-2, 1000)\n",
    "    print(\"Growth rate:\", round(model.optimize().objective_value, 2))\n",
    "    pmap = escher.Builder(\n",
    "        model=model,\n",
    "        map_json=\"acetate_coupling_escherMap.json\",\n",
    "        reaction_data=pfba(model).fluxes,\n",
    "        # use_3d_transformation=True,\n",
    "        reaction_styles=[\"color\", \"size\", \"text\", \"abs\"],\n",
    "        reaction_scale=[\n",
    "            {\"type\": \"min\", \"color\": \"#c8c8c8\", \"size\": 12},\n",
    "            {\"type\": \"mean\", \"color\": \"#9696ff\", \"size\": 20},\n",
    "            {\"type\": \"max\", \"color\": \"#ff0000\", \"size\": 25},\n",
    "        ],\n",
    "    )\n",
    "pmap\n"
   ]
  },
  {
   "attachments": {},
   "cell_type": "markdown",
   "metadata": {},
   "source": [
    "Doesn't look like it. Just capable of using acetate alone for growth though."
   ]
  },
  {
   "attachments": {},
   "cell_type": "markdown",
   "metadata": {},
   "source": [
    "# Add isobutyrate production pathway"
   ]
  },
  {
   "cell_type": "code",
   "execution_count": 16,
   "metadata": {},
   "outputs": [
    {
     "data": {
      "text/html": [
       "\n",
       "        <table>\n",
       "            <tr>\n",
       "                <td><strong>Reaction identifier</strong></td><td>EX_ibt_e</td>\n",
       "            </tr><tr>\n",
       "                <td><strong>Name</strong></td><td>isobutyrate exchange</td>\n",
       "            </tr><tr>\n",
       "                <td><strong>Memory address</strong></td>\n",
       "                <td>0x014f20b610</td>\n",
       "            </tr><tr>\n",
       "                <td><strong>Stoichiometry</strong></td>\n",
       "                <td>\n",
       "                    <p style='text-align:right'>ibt_e --></p>\n",
       "                    <p style='text-align:right'>isobutyrate --></p>\n",
       "                </td>\n",
       "            </tr><tr>\n",
       "                <td><strong>GPR</strong></td><td></td>\n",
       "            </tr><tr>\n",
       "                <td><strong>Lower bound</strong></td><td>0</td>\n",
       "            </tr><tr>\n",
       "                <td><strong>Upper bound</strong></td><td>1000.0</td>\n",
       "            </tr>\n",
       "        </table>\n",
       "        "
      ],
      "text/plain": [
       "<Reaction EX_ibt_e at 0x14f20b610>"
      ]
     },
     "execution_count": 16,
     "metadata": {},
     "output_type": "execute_result"
    }
   ],
   "source": [
    "# kivD overexpression\n",
    "IVDC = Reaction(\n",
    "    id=\"IVDC\",\n",
    "    name=\"Alpha-ketoisovalerate decarboxylase\",\n",
    "    lower_bound=0,\n",
    "    upper_bound=1000,\n",
    ")\n",
    "model.add_reaction(IVDC)\n",
    "mppal_c = Metabolite(\n",
    "    id=\"2mppal_c\",\n",
    "    name=\"2-methylpropanal\",\n",
    "    compartment=\"c\",\n",
    "    formula=\"C4H8O\",\n",
    "    charge=0,\n",
    ")\n",
    "model.add_metabolites(mppal_c)\n",
    "model.reactions.IVDC.build_reaction_from_string(\"3mob_c + h_c --> 2mppal_c + co2_c\")\n",
    "balance = model.reactions.IVDC.check_mass_balance()\n",
    "if balance != {}:\n",
    "    print(balance)\n",
    "\n",
    "# padA overexpression\n",
    "IBTADH = Reaction(\n",
    "    id=\"IBTADH\",\n",
    "    name=\"isobutyraldehyde dehydrogenase\",\n",
    "    lower_bound=0,\n",
    "    upper_bound=1000,\n",
    ")\n",
    "model.add_reaction(IBTADH)\n",
    "ibt_c = Metabolite(\n",
    "    id=\"ibt_c\", name=\"isobutyrate\", compartment=\"c\", formula=\"C4H7O2\", charge=-1\n",
    ")\n",
    "model.add_metabolites([ibt_c])\n",
    "model.reactions.IBTADH.build_reaction_from_string(\n",
    "    \"2mppal_c + nad_c + h2o_c  --> ibt_c + nadh_c + 2 h_c\"\n",
    ")\n",
    "balance = model.reactions.IBTADH.check_mass_balance()\n",
    "if balance != {}:\n",
    "    print(balance)\n",
    "\n",
    "# ibt transport - assume free/non-beneficial\n",
    "IBTT = Reaction(\n",
    "    id=\"IBTT\", name=\"isobutyrate transport\", lower_bound=0, upper_bound=1000\n",
    ")\n",
    "model.add_reaction(IBTT)\n",
    "ibt_e = Metabolite(\n",
    "    id=\"ibt_e\", name=\"isobutyrate\", compartment=\"e\", formula=\"C4H7O2\", charge=-1\n",
    ")\n",
    "model.add_metabolites([ibt_e])\n",
    "model.reactions.IBTT.build_reaction_from_string(\"ibt_c => ibt_e\")\n",
    "balance = model.reactions.IBTT.check_mass_balance()\n",
    "if balance != {}:\n",
    "    print(balance)\n",
    "\n",
    "model.add_boundary(metabolite=model.metabolites.ibt_e, type=\"exchange\", lb=0)\n"
   ]
  },
  {
   "attachments": {},
   "cell_type": "markdown",
   "metadata": {},
   "source": [
    "Check how the fluxes look with a little push towards isobutyrate production."
   ]
  },
  {
   "cell_type": "code",
   "execution_count": 17,
   "metadata": {},
   "outputs": [
    {
     "name": "stdout",
     "output_type": "stream",
     "text": [
      "Growth rate: 0.4\n"
     ]
    },
    {
     "data": {
      "application/vnd.jupyter.widget-view+json": {
       "model_id": "323ee07010c84730a5dd4202286a3c4c",
       "version_major": 2,
       "version_minor": 0
      },
      "text/plain": [
       "Builder(reaction_data={'EX_cm_e': 0.0, 'EX_cmp_e': 0.0, 'EX_co2_e': 10.624075296732311, 'EX_cobalt2_e': -1.009…"
      ]
     },
     "metadata": {},
     "output_type": "display_data"
    }
   ],
   "source": [
    "with model:\n",
    "    model.reactions.EX_glc__D_e.bounds = (-4, 1000)\n",
    "    model.reactions.EX_ac_e.bounds = (-2, 1000)\n",
    "    model.reactions.EX_ibt_e.bounds = (0.2, 1000)\n",
    "    print(\"Growth rate:\", round(model.optimize().objective_value, 2))\n",
    "    pmap = escher.Builder(\n",
    "        model=model,\n",
    "        map_json=\"acetate_coupling_escherMap.json\",\n",
    "        reaction_data=pfba(model).fluxes,\n",
    "        # use_3d_transformation=True,\n",
    "        reaction_styles=[\"color\", \"size\", \"text\", \"abs\"],\n",
    "        reaction_scale=[\n",
    "            {\"type\": \"min\", \"color\": \"#c8c8c8\", \"size\": 12},\n",
    "            {\"type\": \"mean\", \"color\": \"#9696ff\", \"size\": 20},\n",
    "            {\"type\": \"max\", \"color\": \"#ff0000\", \"size\": 25},\n",
    "        ],\n",
    "    )\n",
    "pmap\n"
   ]
  },
  {
   "cell_type": "markdown",
   "metadata": {},
   "source": [
    "Eliminate acetate exchange for export."
   ]
  },
  {
   "cell_type": "code",
   "execution_count": 18,
   "metadata": {},
   "outputs": [],
   "source": [
    "model.reactions.EX_ac_e.bounds = (0, 1000)\n"
   ]
  },
  {
   "cell_type": "markdown",
   "metadata": {},
   "source": [
    "# Export model"
   ]
  },
  {
   "cell_type": "code",
   "execution_count": 19,
   "metadata": {},
   "outputs": [],
   "source": [
    "save_json_model(model, filename=\"acetate_auxotroph.json\")\n"
   ]
  },
  {
   "attachments": {},
   "cell_type": "markdown",
   "metadata": {},
   "source": [
    "# Theoretical limits"
   ]
  },
  {
   "attachments": {},
   "cell_type": "markdown",
   "metadata": {},
   "source": [
    "Check maintenance free isobutyrate production limit"
   ]
  },
  {
   "cell_type": "code",
   "execution_count": 20,
   "metadata": {},
   "outputs": [
    {
     "data": {
      "text/html": [
       "<div>\n",
       "<style scoped>\n",
       "    .dataframe tbody tr th:only-of-type {\n",
       "        vertical-align: middle;\n",
       "    }\n",
       "\n",
       "    .dataframe tbody tr th {\n",
       "        vertical-align: top;\n",
       "    }\n",
       "\n",
       "    .dataframe thead th {\n",
       "        text-align: right;\n",
       "    }\n",
       "</style>\n",
       "<table border=\"1\" class=\"dataframe\">\n",
       "  <thead>\n",
       "    <tr style=\"text-align: right;\">\n",
       "      <th></th>\n",
       "      <th>fluxes</th>\n",
       "    </tr>\n",
       "  </thead>\n",
       "  <tbody>\n",
       "    <tr>\n",
       "      <th>EX_co2_e</th>\n",
       "      <td>10.0</td>\n",
       "    </tr>\n",
       "    <tr>\n",
       "      <th>EX_glc__D_e</th>\n",
       "      <td>-5.0</td>\n",
       "    </tr>\n",
       "    <tr>\n",
       "      <th>EX_h_e</th>\n",
       "      <td>5.0</td>\n",
       "    </tr>\n",
       "    <tr>\n",
       "      <th>EX_h2o_e</th>\n",
       "      <td>10.0</td>\n",
       "    </tr>\n",
       "    <tr>\n",
       "      <th>EX_o2_e</th>\n",
       "      <td>-5.0</td>\n",
       "    </tr>\n",
       "    <tr>\n",
       "      <th>EX_ibt_e</th>\n",
       "      <td>5.0</td>\n",
       "    </tr>\n",
       "  </tbody>\n",
       "</table>\n",
       "</div>"
      ],
      "text/plain": [
       "             fluxes\n",
       "EX_co2_e       10.0\n",
       "EX_glc__D_e    -5.0\n",
       "EX_h_e          5.0\n",
       "EX_h2o_e       10.0\n",
       "EX_o2_e        -5.0\n",
       "EX_ibt_e        5.0"
      ]
     },
     "execution_count": 20,
     "metadata": {},
     "output_type": "execute_result"
    }
   ],
   "source": [
    "with model:\n",
    "    model.reactions.ATPM.bounds = (0, 0)\n",
    "    model.objective = model.reactions.EX_ibt_e.id\n",
    "    model.reactions.EX_glc__D_e.bounds = (-5, 100)\n",
    "    sol = pfba(model)\n",
    "\n",
    "df = sol.fluxes.to_frame()\n",
    "df[(df.index.str.startswith(\"EX_\")) & (abs(df.fluxes) >= 0.001)]"
   ]
  }
 ],
 "metadata": {
  "kernelspec": {
   "display_name": "consortia_acetate_auxotroph",
   "language": "python",
   "name": "python3"
  },
  "language_info": {
   "codemirror_mode": {
    "name": "ipython",
    "version": 3
   },
   "file_extension": ".py",
   "mimetype": "text/x-python",
   "name": "python",
   "nbconvert_exporter": "python",
   "pygments_lexer": "ipython3",
   "version": "3.9.15"
  },
  "vscode": {
   "interpreter": {
    "hash": "2f8f9ed35d74fabb2b0e64aefee11cde6e4905a959cbc70944b523a16067216d"
   }
  }
 },
 "nbformat": 4,
 "nbformat_minor": 1
}
